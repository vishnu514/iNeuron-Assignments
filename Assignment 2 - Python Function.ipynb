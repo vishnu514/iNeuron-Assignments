{
 "cells": [
  {
   "cell_type": "markdown",
   "metadata": {},
   "source": [
    "## Problem Statement"
   ]
  },
  {
   "cell_type": "markdown",
   "metadata": {},
   "source": [
    "Q.1 Write a Python Program to implement your own myreduce() function which works exactly like\n",
    "Python's built-in function reduce()\n"
   ]
  },
  {
   "cell_type": "markdown",
   "metadata": {},
   "source": [
    "The reduce() function accepts a function and a sequence and returns a single value calculated as follows:\n",
    "\n",
    "Initially, the function is called with the first two items from the sequence and the result is returned.\n",
    "\n",
    "The function is then called again with the result obtained in step 1 and the next value in the sequence. This process keeps repeating until there are items in the sequence."
   ]
  },
  {
   "cell_type": "code",
   "execution_count": 19,
   "metadata": {},
   "outputs": [
    {
     "name": "stdout",
     "output_type": "stream",
     "text": [
      "24\n",
      "10\n"
     ]
    }
   ],
   "source": [
    "def do_mul(x1, x2): \n",
    "    return x1 * x2\n",
    "\n",
    "def do_sum(x1,x2):\n",
    "    return x1+x2\n",
    "\n",
    "def my_reduce(func,seq):               #reduce function will produce a single output value\n",
    "    output = seq[0]                     #first item in seq is assigned to output\n",
    "    for i in seq[1:]:                   #iterating remaining items in seq\n",
    "        output = func(output, i)\n",
    "    return output\n",
    "\n",
    "print(my_reduce(do_mul, [1, 2, 3, 4]))   #(((1 * 2) *3) * 4) => 24\n",
    "print(my_reduce(do_sum, [1, 2, 3, 4]))   #(((1 + 2) +3) + 4) => 10"
   ]
  },
  {
   "cell_type": "markdown",
   "metadata": {},
   "source": [
    "Q.2 Write a Python program to implement your own myfilter() function which works exactly like\n",
    "Python's built-in function filter()"
   ]
  },
  {
   "cell_type": "markdown",
   "metadata": {},
   "source": [
    "The filter() function takes a function and a sequence as arguments and returns an iterable, only yielding the items in sequence for which function returns True. If None is passed instead of a function, all the items of the sequence which evaluates to False are removed. The syntax of the filter() is as follows:\n",
    "\n",
    "Syntax: filter(function or None, iterable) --> filter object"
   ]
  },
  {
   "cell_type": "code",
   "execution_count": 11,
   "metadata": {},
   "outputs": [
    {
     "name": "stdout",
     "output_type": "stream",
     "text": [
      "Even numbers are: [0, 10, 20]\n"
     ]
    }
   ],
   "source": [
    "def iseven(x):\n",
    "    if (x%2==0):\n",
    "        return True\n",
    "    else:\n",
    "        return False\n",
    "\n",
    "def myfilter(func,seq):\n",
    "    output=[]\n",
    "    for i in seq:           #iterate over sequence of items in seq and apply filter function\n",
    "        if func(i):\n",
    "            output.append(i)\n",
    "    return output\n",
    "\n",
    "print('Even numbers are:',myfilter(iseven,[0,5,10,15,20,25]))"
   ]
  },
  {
   "cell_type": "markdown",
   "metadata": {},
   "source": [
    "Q.3 Implement List comprehensions to produce the following lists.\n",
    "   Write List comprehensions to produce the following Lists\n",
    "   \n",
    "    ['A', 'C', 'A', 'D', 'G', 'I', ’L’, ‘ D’]\n",
    "   \n",
    "    ['x', 'xx', 'xxx', 'xxxx', 'y', 'yy', 'yyy', 'yyyy', 'z', 'zz', 'zzz', 'zzzz']\n",
    "\n",
    "    ['x', 'y', 'z', 'xx', 'yy', 'zz', 'xx', 'yy', 'zz', 'xxxx', 'yyyy', 'zzzz']\n",
    "    \n",
    "    [[2], [3], [4], [3], [4], [5], [4], [5], [6]]\n",
    "\n",
    "    [[2, 3, 4, 5], [3, 4, 5, 6], [4, 5, 6, 7], [5, 6, 7, 8]]\n",
    "\n",
    "    [(1, 1), (2, 1), (3, 1), (1, 2), (2, 2), (3, 2), (1, 3), (2, 3), (3, 3)]"
   ]
  },
  {
   "cell_type": "code",
   "execution_count": 12,
   "metadata": {},
   "outputs": [
    {
     "name": "stdout",
     "output_type": "stream",
     "text": [
      "['A', 'C', 'A', 'D', 'G', 'I', 'L', 'D']\n",
      "['x', 'xx', 'xxx', 'xxxx', 'y', 'yy', 'yyy', 'yyyy', 'z', 'zz', 'zzz', 'zzzz']\n",
      "['x', 'y', 'z', 'xx', 'yy', 'zz', 'xxx', 'yyy', 'zzz', 'xxxx', 'yyyy', 'zzzz']\n",
      "[[2], [3], [4], [3], [4], [5], [4], [5], [6]]\n",
      "[[2, 3, 4, 5], [3, 4, 5, 6], [4, 5, 6, 7], [5, 6, 7, 8]]\n",
      "[(1, 1), (1, 2), (1, 3), (2, 1), (2, 2), (2, 3), (3, 1), (3, 2), (3, 3)]\n"
     ]
    }
   ],
   "source": [
    "input_word='ACADGILD'\n",
    "L1=[x for x in input_word]\n",
    "print(L1)\n",
    "\n",
    "#comprehension using technique [i <Upper for condition> <lower for condition>]\n",
    "list1=['x','y','z']\n",
    "L2=[x*num for x in list1 for num in range(1,5)]\n",
    "print(L2)\n",
    "\n",
    "list2=['x','y','z']\n",
    "L3=[x*num for num in range(1,5) for x in list2]\n",
    "print(L3)\n",
    "\n",
    "list3=[2,3,4]\n",
    "L4=[[x+num] for x in list3 for num in range(0,3)]\n",
    "print(L4)\n",
    "\n",
    "list4=[2,3,4,5]\n",
    "L5=[[x+num for x in list4] for num in range(0,4)]\n",
    "print(L5)\n",
    "\n",
    "list5=[1,2,3]\n",
    "L6=[(x,y) for x in list5 for y in list5]\n",
    "print(L6)"
   ]
  },
  {
   "cell_type": "markdown",
   "metadata": {},
   "source": [
    "Q.4 Implement a function longestWord() that takes a list of words and returns the longest one."
   ]
  },
  {
   "cell_type": "code",
   "execution_count": 15,
   "metadata": {},
   "outputs": [
    {
     "name": "stdout",
     "output_type": "stream",
     "text": [
      "Exercise\n"
     ]
    }
   ],
   "source": [
    "def longest_word(list_words):\n",
    "    l1=[]\n",
    "    for x in list_words:\n",
    "        l1.append((len(x),x))\n",
    "    l1.sort()\n",
    "    #print(l1)---> [(2, 'is'), (4, 'good'), (7, 'Morning'), (8, 'Exercise')]\n",
    "    return l1[-1][1]\n",
    "print(longest_word(['Morning','Exercise','is','good']))"
   ]
  },
  {
   "cell_type": "markdown",
   "metadata": {},
   "source": [
    "Q.5 Write a Python Program(with class concepts) to find the area of the triangle using the below\n",
    "formula.\n",
    "\n",
    "area = (s*(s-a)*(s-b)*(s-c)) ** 0.5\n",
    "\n",
    "Function to take the length of the sides of triangle from user should be defined in the parent\n",
    "class and function to calculate the area should be defined in subclass."
   ]
  },
  {
   "cell_type": "code",
   "execution_count": 33,
   "metadata": {},
   "outputs": [
    {
     "data": {
      "text/plain": [
       "<bound method Area.formula of <__main__.Area object at 0x0000019191B8EC88>>"
      ]
     },
     "execution_count": 33,
     "metadata": {},
     "output_type": "execute_result"
    }
   ],
   "source": [
    "class Person:\n",
    "    def __init__(self,a,b,c):\n",
    "        self.side1=a\n",
    "        self.side2=b\n",
    "        self.side3=c\n",
    "class Area(Person):      \n",
    "    def formula(self):\n",
    "        super.__init__(a,b,c)\n",
    "        #s = (a + b + c) / 2\n",
    "        #Area1 = (s*(s-a)*(s-b)*(s-c)) ** 0.5\n",
    "        s = (self.side1 + self.side2 + self.side3) / 2\n",
    "        Area1 = (s*(s-self.side1)*(s-self.side2)*(s-self.side3)) ** 0.5\n",
    "        print(\" The Area of a Triangle is %0.2f\" %Area1)\n",
    "e1=Area(7,9,11)\n",
    "e1.formula"
   ]
  },
  {
   "cell_type": "code",
   "execution_count": 20,
   "metadata": {},
   "outputs": [
    {
     "name": "stdout",
     "output_type": "stream",
     "text": [
      "Please Enter the First side of a Triangle: 7\n",
      "Please Enter the Second side of a Triangle: 9\n",
      "Please Enter the Third side of a Triangle: 11\n",
      " The Area of a Triangle is 31.42\n"
     ]
    }
   ],
   "source": [
    "a = float(input('Please Enter the First side of a Triangle: '))\n",
    "b = float(input('Please Enter the Second side of a Triangle: '))\n",
    "c = float(input('Please Enter the Third side of a Triangle: '))\n",
    " \n",
    "# calculate the semi-perimeter\n",
    "s = (a + b + c) / 2\n",
    " \n",
    "# calculate the area\n",
    "Area = (s*(s-a)*(s-b)*(s-c)) ** 0.5\n",
    " \n",
    "print(\" The Area of a Triangle is %0.2f\" %Area)"
   ]
  },
  {
   "cell_type": "markdown",
   "metadata": {},
   "source": [
    "Q.6 Write a function filter_long_words() that takes a list of words and an integer n and returns the list\n",
    "of words that are longer than n."
   ]
  },
  {
   "cell_type": "code",
   "execution_count": 16,
   "metadata": {},
   "outputs": [
    {
     "name": "stdout",
     "output_type": "stream",
     "text": [
      "['list', 'words', 'integer', 'returns', 'list', 'words', 'that', 'longer', 'than']\n"
     ]
    }
   ],
   "source": [
    "def filter_long_words(n,str):\n",
    "    l1=[]\n",
    "    l2=str.split(' ')\n",
    "    for x in l2:\n",
    "        if len(x) > n:\n",
    "            l1.append(x)\n",
    "    return l1\n",
    "print(filter_long_words(3,\"list of words and an integer n and returns the list of words that are longer than n\"))"
   ]
  },
  {
   "cell_type": "markdown",
   "metadata": {},
   "source": [
    "Q.7 Write a Python program using function concept that maps list of words into a list of integers\n",
    "representing the lengths of the corresponding words.\n",
    "    \n",
    "    Hint: If a list [ ab,cde,erty] is passed on to the python function output should come as [2,3,4]\n",
    "    Here 2,3 and 4 are the lengths of the words in the list."
   ]
  },
  {
   "cell_type": "code",
   "execution_count": 17,
   "metadata": {},
   "outputs": [
    {
     "name": "stdout",
     "output_type": "stream",
     "text": [
      "List of words:['ab', 'cde', 'erty']\n",
      "List of wordlen:[2, 3, 4]\n"
     ]
    }
   ],
   "source": [
    "list_of_words=['ab','cde','erty']\n",
    "list_of_ints=[]\n",
    "\n",
    "for x in range(len(list_of_words)):\n",
    "    list_of_ints.append(len(list_of_words[x]))\n",
    "    \n",
    "print('List of words:'+str(list_of_words))\n",
    "print('List of wordlen:'+str(list_of_ints))"
   ]
  },
  {
   "cell_type": "markdown",
   "metadata": {},
   "source": [
    "Q.8 Write a Python function which takes a character (i.e. a string of length 1) and returns True if it is\n",
    "a vowel, False otherwise."
   ]
  },
  {
   "cell_type": "code",
   "execution_count": 18,
   "metadata": {},
   "outputs": [
    {
     "name": "stdout",
     "output_type": "stream",
     "text": [
      "False\n",
      "True\n"
     ]
    }
   ],
   "source": [
    "def check_vowel(char):\n",
    "    vowels='aeiou'\n",
    "    return char in vowels\n",
    "print(check_vowel('c'))\n",
    "print(check_vowel('e'))"
   ]
  },
  {
   "cell_type": "markdown",
   "metadata": {},
   "source": [
    "## Great job!"
   ]
  }
 ],
 "metadata": {
  "kernelspec": {
   "display_name": "Python 3",
   "language": "python",
   "name": "python3"
  },
  "language_info": {
   "codemirror_mode": {
    "name": "ipython",
    "version": 3
   },
   "file_extension": ".py",
   "mimetype": "text/x-python",
   "name": "python",
   "nbconvert_exporter": "python",
   "pygments_lexer": "ipython3",
   "version": "3.7.3"
  }
 },
 "nbformat": 4,
 "nbformat_minor": 2
}
