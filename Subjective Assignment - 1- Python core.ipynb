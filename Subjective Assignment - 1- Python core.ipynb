{
 "cells": [
  {
   "cell_type": "markdown",
   "metadata": {},
   "source": [
    "Q1. Write a Python program to get the string from the given string where\n",
    "all the occurrence of its first char has been changed to '$,' except first\n",
    "char itself?\n",
    "\n",
    "    Sample String: 'prospect'\n",
    "    Expected Result : 'pros$ect'\n"
   ]
  },
  {
   "cell_type": "code",
   "execution_count": 3,
   "metadata": {},
   "outputs": [
    {
     "name": "stdout",
     "output_type": "stream",
     "text": [
      "pros$ect\n"
     ]
    }
   ],
   "source": [
    "def change_given_str(str1):\n",
    "    char_list=str1[0]                #Storing first occurence of str1 into char_list\n",
    "    str1=str1.replace(char_list,'$') #replacing all first occurence with $ \n",
    "    str1=char_list + str1[1:]        #concatenate first occurence and from 1st index of str1\n",
    "    return str1\n",
    "print(change_given_str('prospect'))"
   ]
  },
  {
   "cell_type": "markdown",
   "metadata": {},
   "source": [
    "Q2. Write a Python program to get the single string from the two given\n",
    "strings, and separated by the space and swap the first two characters of\n",
    "each string?\n",
    "\n",
    "    Sample String : 'abc', 'xyz'.\n",
    "    Expected Result: 'xyc abz'"
   ]
  },
  {
   "cell_type": "code",
   "execution_count": 8,
   "metadata": {},
   "outputs": [
    {
     "name": "stdout",
     "output_type": "stream",
     "text": [
      "xyc\n",
      "abz\n",
      "xyc abz\n"
     ]
    }
   ],
   "source": [
    "str1='abc'\n",
    "str2='xyz'\n",
    "list1=str2[:2] + str1[2:]\n",
    "print(list1)\n",
    "list2=str1[:2] + str2[2:]\n",
    "print(list2)\n",
    "result=list1+' '+list2\n",
    "print(result)"
   ]
  },
  {
   "cell_type": "code",
   "execution_count": 9,
   "metadata": {},
   "outputs": [
    {
     "name": "stdout",
     "output_type": "stream",
     "text": [
      "xyc abz\n"
     ]
    }
   ],
   "source": [
    "def swap_strings(str1,str2):\n",
    "    list1=str2[:2] + str1[2:]  #concatenate first 2 characters of str2 and last(2nd index) character of str1\n",
    "    list2=str1[:2] + str2[2:]  #concatenate first 2 characters of str1 and last(2nd index) character of str2\n",
    "    result=list1+' '+list2     #concatenate list1 and list2\n",
    "    return result\n",
    "print(swap_strings('abc','xyz'))"
   ]
  },
  {
   "cell_type": "markdown",
   "metadata": {},
   "source": [
    "Q3. Write the Python program to add 'ing' at the end of the given string\n",
    "(length of the string should be at least 3). If given string already ends\n",
    "with 'ing,' then add 'ly' instead. If string length of the given string is less\n",
    "than 3, leave it unchanged?\n",
    "\n",
    "\n",
    "    Sample string: ' abc '\n",
    "    Expected result: ' abcing '\n",
    "    Sample string: ' string '\n",
    "    Expected result: ' stringly '\n"
   ]
  },
  {
   "cell_type": "code",
   "execution_count": 10,
   "metadata": {},
   "outputs": [
    {
     "name": "stdout",
     "output_type": "stream",
     "text": [
      "abcing\n",
      "stringly\n"
     ]
    }
   ],
   "source": [
    "def change_str(sample_str):\n",
    "    len_str=len(sample_str)\n",
    "    if len_str > 2:\n",
    "        if sample_str[-3:]=='ing':        #if the last 3 characters of sample_str is 'ing' then concatenate 'ly'\n",
    "            sample_str=sample_str + 'ly' \n",
    "        else:\n",
    "            sample_str=sample_str + 'ing' #if the last 3 characters of sample_str is not'ing' then concatenate 'ing'\n",
    "    return sample_str\n",
    "print(change_str('abc'))\n",
    "print(change_str('string'))"
   ]
  },
  {
   "cell_type": "markdown",
   "metadata": {},
   "source": [
    "Q4. Write the Python program to find the first appearance of the\n",
    "substring 'not' and 'poor' from the given string, if 'not' follows the 'poor',\n",
    "replace the whole 'not'...' poor' substring with 'good'.Return the resulting\n",
    "string.\n",
    "\n",
    "    Sample string: 'The lyrics are not that poor!'\n",
    "    'The lyrics are poor!'\n",
    "    Expected Result: 'The lyrics are good!'\n",
    "    'The lyrics are poor!'"
   ]
  },
  {
   "cell_type": "code",
   "execution_count": 11,
   "metadata": {},
   "outputs": [
    {
     "name": "stdout",
     "output_type": "stream",
     "text": [
      "The lyrics are good!\n",
      "The lyrics are poor!\n"
     ]
    }
   ],
   "source": [
    "def first_sub(str1):\n",
    "    sub_not=str1.find('not')\n",
    "    sub_poor=str1.find('poor')\n",
    "    \n",
    "    if sub_poor > sub_not and sub_not>0 and sub_poor>0:      #if substring is not found then output=-1\n",
    "        str1=str1.replace(str1[sub_not:(sub_poor+4)],'good') \n",
    "        return str1\n",
    "    else:\n",
    "        return str1\n",
    "print(first_sub('The lyrics are not that poor!'))\n",
    "print(first_sub('The lyrics are poor!'))"
   ]
  },
  {
   "cell_type": "markdown",
   "metadata": {},
   "source": [
    "Q5. Write the Python program to remove the characters which have odd\n",
    "index values of a given string."
   ]
  },
  {
   "cell_type": "code",
   "execution_count": 14,
   "metadata": {},
   "outputs": [
    {
     "name": "stdout",
     "output_type": "stream",
     "text": [
      "Iernsinet\n",
      "DeLann\n"
     ]
    }
   ],
   "source": [
    "def odd_index_values(str):\n",
    "    output=''\n",
    "    for i in range(len(str)):\n",
    "        if i%2==0:                \n",
    "            output=output + str[i] #odd index values of a given string\n",
    "    return output\n",
    "print(odd_index_values('IneuronAssignment'))\n",
    "print(odd_index_values('DeepLearning'))"
   ]
  },
  {
   "cell_type": "markdown",
   "metadata": {},
   "source": [
    "Q6. Write the python program to print the following floating numbers up\n",
    "to 2 decimal places?"
   ]
  },
  {
   "cell_type": "code",
   "execution_count": 16,
   "metadata": {},
   "outputs": [
    {
     "name": "stdout",
     "output_type": "stream",
     "text": [
      "Enter a floating point number:1.41414\n",
      "changed number:1.41\n",
      "Enter a floating point number:1.7324\n",
      "changed number:1.73\n"
     ]
    }
   ],
   "source": [
    "a=float(input('Enter a floating point number:'))\n",
    "print('changed number:' + '{:.2f}'.format(a))\n",
    "\n",
    "b=float(input('Enter a floating point number:'))\n",
    "print('changed number:' + '{:.2f}'.format(b))"
   ]
  },
  {
   "cell_type": "markdown",
   "metadata": {},
   "source": [
    "Q7. Write the Python program to format a number with a percentage?"
   ]
  },
  {
   "cell_type": "code",
   "execution_count": 18,
   "metadata": {},
   "outputs": [
    {
     "name": "stdout",
     "output_type": "stream",
     "text": [
      "Enter a floating point number:0.75\n",
      "changed number:75.00%\n",
      "Enter a floating point number:0.25\n",
      "changed number:25.000%\n"
     ]
    }
   ],
   "source": [
    "a=float(input('Enter a floating point number:'))\n",
    "print('changed number:' + '{:.2%}'.format(a))\n",
    "\n",
    "b=float(input('Enter a floating point number:'))\n",
    "print('changed number:' + '{:.3%}'.format(b))"
   ]
  },
  {
   "cell_type": "markdown",
   "metadata": {},
   "source": [
    "Q8. Write the Python program to count occurrences of a substring in a\n",
    "String?"
   ]
  },
  {
   "cell_type": "code",
   "execution_count": 20,
   "metadata": {},
   "outputs": [
    {
     "name": "stdout",
     "output_type": "stream",
     "text": [
      "Please enter the string:Learning python is very very easy\n",
      "Please enter substring:very\n",
      "Count occurrences of a substring in a String 2\n"
     ]
    }
   ],
   "source": [
    "s1=input(\"Please enter the string:\")\n",
    "s2=input(\"Please enter substring:\")\n",
    "print(\"Count occurrences of a substring in a String\",s1.count(s2))"
   ]
  },
  {
   "cell_type": "markdown",
   "metadata": {},
   "source": [
    "Q9. Write the Python program to count repeated characters in a string.\n",
    "\n",
    "    Sample string: ' thequickbrownjumpsoverthelazydog '\n",
    "    \n",
    "    Expected output:\n",
    "    o 3\n",
    "    e 3\n",
    "    u 2\n",
    "    h 2\n",
    "    r 2\n",
    "    t 2"
   ]
  },
  {
   "cell_type": "code",
   "execution_count": 36,
   "metadata": {},
   "outputs": [
    {
     "name": "stdout",
     "output_type": "stream",
     "text": [
      "t 2\n",
      "h 2\n",
      "e 3\n",
      "u 2\n",
      "r 2\n",
      "o 3\n"
     ]
    }
   ],
   "source": [
    "s='thequickbrownjumpsoverthelazydog'\n",
    "d={}\n",
    "for x in s:\n",
    "    d[x]=d.get(x,0)+1\n",
    "for k,v in (d.items()):\n",
    "    if v>1:\n",
    "        print(k,v)\n"
   ]
  },
  {
   "cell_type": "code",
   "execution_count": 38,
   "metadata": {},
   "outputs": [
    {
     "name": "stdout",
     "output_type": "stream",
     "text": [
      "defaultdict(<class 'int'>, {})\n",
      "o 4\n",
      "e 3\n",
      "t 2\n",
      "h 2\n",
      "u 2\n",
      "r 2\n"
     ]
    }
   ],
   "source": [
    "import collections\n",
    "str1 = 'thequickbrownfoxjumpsoverthelazydog'\n",
    "d = collections.defaultdict(int)\n",
    "print(d)\n",
    "for c in str1:\n",
    "    d[c] += 1\n",
    "\n",
    "for c in sorted(d, key=d.get, reverse=True):\n",
    "  if d[c] > 1:\n",
    "      print('%s %d' % (c, d[c]))"
   ]
  },
  {
   "cell_type": "markdown",
   "metadata": {},
   "source": [
    "Q10. Write the Python program to print the square and cube symbol in\n",
    "the area of a rectangle and volume of a cylinder?\n",
    "\n",
    "    Sample outputThe area of the rectangle is 1256.66cm2\n",
    "    The volume of the cylinder is 1254.725cm3\n"
   ]
  },
  {
   "cell_type": "code",
   "execution_count": 43,
   "metadata": {},
   "outputs": [
    {
     "name": "stdout",
     "output_type": "stream",
     "text": [
      "The area of the rectangle is 1256.66cm²\n",
      "The volume of the cylinder is 1254.725cm³\n"
     ]
    }
   ],
   "source": [
    "area_rec=1256.66\n",
    "vol_cyl=1254.725\n",
    "print('The area of the rectangle is {0:.{1}f}cm\\u00b2'.format(area_rec,2))\n",
    "print('The volume of the cylinder is {0:.{1}f}cm\\u00b3'.format(vol_cyl,3))"
   ]
  },
  {
   "cell_type": "markdown",
   "metadata": {},
   "source": [
    "Q11. Write the Python program to check if a string contains all letters of\n",
    "the alphabet?"
   ]
  },
  {
   "cell_type": "code",
   "execution_count": 13,
   "metadata": {},
   "outputs": [
    {
     "name": "stdout",
     "output_type": "stream",
     "text": [
      "string contain all letters : True\n",
      "string doesnt contain all letters : False\n"
     ]
    }
   ],
   "source": [
    "import string\n",
    "alphabet = set(string.ascii_lowercase)\n",
    "#print(len(alphabet)) ---> has 26 characters\n",
    "\n",
    "input_string = 'The quick brown fox jumps over the lazy dog'\n",
    "#print(len(set(input_string.lower())))--> has 27 characters inclusing space\n",
    "print('string contain all letters :',set(input_string.lower()) >= alphabet)\n",
    "\n",
    "input_string = 'The quick brown fox jumps over the lazy cat'\n",
    "#print(len(set(input_string.lower()))) --->has 25 unique lowercase characters\n",
    "print('string doesnt contain all letters :',set(input_string.lower()) >= alphabet)"
   ]
  },
  {
   "cell_type": "markdown",
   "metadata": {},
   "source": [
    "Q12. Write the Python program to find the second most repeated word\n",
    "in a given string?"
   ]
  },
  {
   "cell_type": "code",
   "execution_count": 30,
   "metadata": {},
   "outputs": [
    {
     "name": "stdout",
     "output_type": "stream",
     "text": [
      "[('Write', 1), ('Python', 1), ('program', 1), ('to', 1), ('find', 1), ('minimum', 1), ('window', 1), ('in', 1), ('string,', 1), ('which', 1), ('will', 1), ('contains', 1), ('all', 1), ('characters', 1), ('of', 1), ('another', 1), ('strings', 1), ('given', 2), ('the', 4)]\n",
      "('given', 2)\n"
     ]
    }
   ],
   "source": [
    "def word_count(str):\n",
    "    d={}\n",
    "    words = str.split()\n",
    "\n",
    "    for x in words:\n",
    "        d[x]=d.get(x,0)+1\n",
    "\n",
    "    counts_x = sorted(d.items(), key=lambda kv: kv[1])\n",
    "    print(counts_x)\n",
    "    return counts_x[-2]  #given is 2nd most repeated\n",
    " \n",
    "print(word_count(\"Write the Python program to find the minimum window in the given string, which will contains all the characters of another given strings\"))"
   ]
  },
  {
   "cell_type": "markdown",
   "metadata": {},
   "source": [
    "Q13. Write the Python program to find the minimum window in the given\n",
    "string, which will contains all the characters of another given\n",
    "strings?\n",
    "\n",
    "    Example 1\n",
    "    Input : string1 = \" PRWSOERIUSFK \"\n",
    "    string2 = \" OSU \"\n",
    "    Output: Minimum window is \"OERIUS\""
   ]
  },
  {
   "cell_type": "code",
   "execution_count": 31,
   "metadata": {},
   "outputs": [
    {
     "name": "stdout",
     "output_type": "stream",
     "text": [
      "Original Strings:\n",
      " PRWSOERIUSFK \n",
      " OSU\n",
      "Minimum window:\n",
      "OERIUS\n"
     ]
    }
   ],
   "source": [
    "import collections\n",
    "def min_window(str1, str2):\n",
    "    result_char, missing_char = collections.Counter(str2), len(str2)\n",
    "    i = p = q = 0\n",
    "    for j, c in enumerate(str1, 1):\n",
    "        missing_char -= result_char[c] > 0\n",
    "        result_char[c] -= 1\n",
    "        if not missing_char:\n",
    "            while i < q and result_char[str1[i]] < 0:\n",
    "                result_char[str1[i]] += 1\n",
    "                i += 1\n",
    "            if not q or j - i <= q - p:\n",
    "                p, q = i, j\n",
    "    return str1[p:q]\n",
    "           \n",
    "str1 = \"PRWSOERIUSFK\"\n",
    "str2 = \"OSU\"\n",
    "print(\"Original Strings:\\n\",str1,\"\\n\",str2)\n",
    "print(\"Minimum window:\")\n",
    "print(min_window(str1,str2))"
   ]
  },
  {
   "cell_type": "markdown",
   "metadata": {},
   "source": [
    "Q14. Write the Python program to count number of substrings from a\n",
    "given string of lowercase alphabets with exactly k distinct (given)\n",
    "characters?\n",
    "\n",
    "    Input a string (lowercase alphabets): wolf\n",
    "    Input k: 4\n",
    "    Number of substrings with exactly 4 distinct characters: 1"
   ]
  },
  {
   "cell_type": "code",
   "execution_count": 35,
   "metadata": {},
   "outputs": [
    {
     "name": "stdout",
     "output_type": "stream",
     "text": [
      "Input a string (lowercase alphabets):wolf\n",
      "Input k: 4\n",
      "Number of substrings with exactly 4 distinct characters : 1\n"
     ]
    }
   ],
   "source": [
    "def count_k_dist(str1, k): \n",
    "    str_len = len(str1) \n",
    "    result = 0\n",
    "    ctr = [0] * 27\n",
    "    for i in range(0, str_len): \n",
    "        dist_ctr = 0\n",
    "        ctr = [0] * 27\n",
    "        for j in range(i, str_len): \n",
    "            if(ctr[ord(str1[j]) - 97] == 0): \n",
    "                dist_ctr += 1\n",
    "            ctr[ord(str1[j]) - 97] += 1\n",
    "            if(dist_ctr == k): \n",
    "                result += 1\n",
    "            if(dist_ctr > k): \n",
    "                break\n",
    "    return result \n",
    "\n",
    "str1 = input(\"Input a string (lowercase alphabets):\")\n",
    "k = int(input(\"Input k: \"))\n",
    "print(\"Number of substrings with exactly\", k, \"distinct characters : \", end = \"\") \n",
    "print(count_k_dist(str1, k))"
   ]
  },
  {
   "cell_type": "markdown",
   "metadata": {},
   "source": [
    "Q15. Write the Python program to count number of substrings with same\n",
    "first and last characters of the given string?\n",
    "\n",
    "    Input a string: abcd\n",
    "    4\n"
   ]
  },
  {
   "cell_type": "code",
   "execution_count": 34,
   "metadata": {},
   "outputs": [
    {
     "name": "stdout",
     "output_type": "stream",
     "text": [
      "Input a string: abcd\n",
      "4\n"
     ]
    }
   ],
   "source": [
    "def number_of_substrings(str1):\n",
    "    count=0\n",
    "    n=len(str1)\n",
    "    for x in range(n):\n",
    "        for y in range(x,n):\n",
    "            if(str1[x]==str1[y]):\n",
    "                count=count+1\n",
    "    return count\n",
    "str1 = input(\"Input a string: \")\n",
    "print(number_of_substrings(str1))"
   ]
  },
  {
   "cell_type": "markdown",
   "metadata": {},
   "source": [
    "## Great Job!"
   ]
  }
 ],
 "metadata": {
  "kernelspec": {
   "display_name": "Python 3",
   "language": "python",
   "name": "python3"
  },
  "language_info": {
   "codemirror_mode": {
    "name": "ipython",
    "version": 3
   },
   "file_extension": ".py",
   "mimetype": "text/x-python",
   "name": "python",
   "nbconvert_exporter": "python",
   "pygments_lexer": "ipython3",
   "version": "3.7.3"
  }
 },
 "nbformat": 4,
 "nbformat_minor": 2
}
